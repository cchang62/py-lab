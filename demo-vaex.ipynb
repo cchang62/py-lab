{
 "cells": [
  {
   "cell_type": "markdown",
   "id": "thousand-fossil",
   "metadata": {},
   "source": [
    "# Demo - Vaex \n",
    "A lib using in computing astronomy field  \n",
    "[Vaex-Tutorial](https://vaex.readthedocs.io/en/latest/tutorial.html)"
   ]
  },
  {
   "cell_type": "markdown",
   "id": "interested-toolbox",
   "metadata": {},
   "source": [
    "### Import a file - HDF5"
   ]
  },
  {
   "cell_type": "code",
   "execution_count": 2,
   "id": "chronic-darwin",
   "metadata": {},
   "outputs": [
    {
     "name": "stdout",
     "output_type": "stream",
     "text": [
      "CPU times: user 1 µs, sys: 1 µs, total: 2 µs\n",
      "Wall time: 3.1 µs\n"
     ]
    }
   ],
   "source": [
    "%time\n",
    "import vaex\n",
    "# import warnings; warnings.filterwarnings(\"ignore\")\n",
    "\n",
    "vdf = vaex.open('/Users/Jibamy/Projects/Python/yellow_taxi_2015_f32s.hdf5')"
   ]
  },
  {
   "cell_type": "markdown",
   "id": "sunset-blocking",
   "metadata": {},
   "source": [
    "### Count in a 140m-row file "
   ]
  },
  {
   "cell_type": "code",
   "execution_count": 3,
   "id": "optional-premises",
   "metadata": {},
   "outputs": [
    {
     "name": "stdout",
     "output_type": "stream",
     "text": [
      "number of rows: 146,112,991\n",
      "CPU times: user 342 µs, sys: 181 µs, total: 523 µs\n",
      "Wall time: 465 µs\n"
     ]
    }
   ],
   "source": [
    "%%time\n",
    "print(f'number of rows: {vdf.shape[0]:,}')"
   ]
  },
  {
   "cell_type": "markdown",
   "id": "abandoned-elimination",
   "metadata": {},
   "source": [
    "### Install libs in Jupyter Notebook"
   ]
  },
  {
   "cell_type": "code",
   "execution_count": null,
   "id": "accomplished-title",
   "metadata": {},
   "outputs": [],
   "source": [
    "# Install a conda package in the current Jupyter kernel\n",
    "import sys\n",
    "!conda install --yes --prefix {sys.prefix} numpy\n",
    "# Install a pip package in the current Jupyter kernel\n",
    "!{sys.executable} -m pip install numpy\n",
    "# Other usage Ref. https://jakevdp.github.io/blog/2017/12/05/installing-python-packages-from-jupyter/ "
   ]
  },
  {
   "cell_type": "markdown",
   "id": "guided-economics",
   "metadata": {},
   "source": [
    "### Describe file"
   ]
  },
  {
   "cell_type": "code",
   "execution_count": 7,
   "id": "completed-directory",
   "metadata": {},
   "outputs": [
    {
     "name": "stdout",
     "output_type": "stream",
     "text": [
      "CPU times: user 1min 34s, sys: 23.1 s, total: 1min 57s\n",
      "Wall time: 28.3 s\n"
     ]
    },
    {
     "data": {
      "text/html": [
       "<div>\n",
       "<style scoped>\n",
       "    .dataframe tbody tr th:only-of-type {\n",
       "        vertical-align: middle;\n",
       "    }\n",
       "\n",
       "    .dataframe tbody tr th {\n",
       "        vertical-align: top;\n",
       "    }\n",
       "\n",
       "    .dataframe thead th {\n",
       "        text-align: right;\n",
       "    }\n",
       "</style>\n",
       "<table border=\"1\" class=\"dataframe\">\n",
       "  <thead>\n",
       "    <tr style=\"text-align: right;\">\n",
       "      <th></th>\n",
       "      <th>vendor_id</th>\n",
       "      <th>pickup_datetime</th>\n",
       "      <th>dropoff_datetime</th>\n",
       "      <th>passenger_count</th>\n",
       "      <th>payment_type</th>\n",
       "      <th>trip_distance</th>\n",
       "      <th>pickup_longitude</th>\n",
       "      <th>pickup_latitude</th>\n",
       "      <th>rate_code</th>\n",
       "      <th>store_and_fwd_flag</th>\n",
       "      <th>dropoff_longitude</th>\n",
       "      <th>dropoff_latitude</th>\n",
       "      <th>fare_amount</th>\n",
       "      <th>surcharge</th>\n",
       "      <th>mta_tax</th>\n",
       "      <th>tip_amount</th>\n",
       "      <th>tolls_amount</th>\n",
       "      <th>total_amount</th>\n",
       "    </tr>\n",
       "  </thead>\n",
       "  <tbody>\n",
       "    <tr>\n",
       "      <th>dtype</th>\n",
       "      <td>str</td>\n",
       "      <td>datetime64[ns]</td>\n",
       "      <td>datetime64[ns]</td>\n",
       "      <td>int64</td>\n",
       "      <td>str</td>\n",
       "      <td>float32</td>\n",
       "      <td>float32</td>\n",
       "      <td>float32</td>\n",
       "      <td>float32</td>\n",
       "      <td>float32</td>\n",
       "      <td>float32</td>\n",
       "      <td>float32</td>\n",
       "      <td>float32</td>\n",
       "      <td>float32</td>\n",
       "      <td>float32</td>\n",
       "      <td>float32</td>\n",
       "      <td>float32</td>\n",
       "      <td>float32</td>\n",
       "    </tr>\n",
       "    <tr>\n",
       "      <th>count</th>\n",
       "      <td>146112991</td>\n",
       "      <td>146112991</td>\n",
       "      <td>146112991</td>\n",
       "      <td>146112991</td>\n",
       "      <td>146112991</td>\n",
       "      <td>146112991</td>\n",
       "      <td>146112991</td>\n",
       "      <td>146112991</td>\n",
       "      <td>146112991</td>\n",
       "      <td>146112989</td>\n",
       "      <td>146112991</td>\n",
       "      <td>146112990</td>\n",
       "      <td>146112990</td>\n",
       "      <td>146112990</td>\n",
       "      <td>146112990</td>\n",
       "      <td>146112990</td>\n",
       "      <td>146112990</td>\n",
       "      <td>146112990</td>\n",
       "    </tr>\n",
       "    <tr>\n",
       "      <th>NA</th>\n",
       "      <td>0</td>\n",
       "      <td>0</td>\n",
       "      <td>0</td>\n",
       "      <td>0</td>\n",
       "      <td>0</td>\n",
       "      <td>0</td>\n",
       "      <td>0</td>\n",
       "      <td>0</td>\n",
       "      <td>0</td>\n",
       "      <td>2</td>\n",
       "      <td>0</td>\n",
       "      <td>1</td>\n",
       "      <td>1</td>\n",
       "      <td>1</td>\n",
       "      <td>1</td>\n",
       "      <td>1</td>\n",
       "      <td>1</td>\n",
       "      <td>1</td>\n",
       "    </tr>\n",
       "    <tr>\n",
       "      <th>mean</th>\n",
       "      <td>--</td>\n",
       "      <td>1970-01-01T00:01:25.835533096</td>\n",
       "      <td>1970-01-01T00:00:05.863547737</td>\n",
       "      <td>1.6806633573054433</td>\n",
       "      <td>--</td>\n",
       "      <td>13.137274561804015</td>\n",
       "      <td>-72.80689147618534</td>\n",
       "      <td>40.107714232654736</td>\n",
       "      <td>1.0420616124407445</td>\n",
       "      <td>0.008331969719680431</td>\n",
       "      <td>-72.85359844626949</td>\n",
       "      <td>40.13439191319038</td>\n",
       "      <td>12.938776600018073</td>\n",
       "      <td>0.3142660957767585</td>\n",
       "      <td>0.4975636310707298</td>\n",
       "      <td>1.7284416808430478</td>\n",
       "      <td>0.3077738357453542</td>\n",
       "      <td>16.096247205005447</td>\n",
       "    </tr>\n",
       "    <tr>\n",
       "      <th>std</th>\n",
       "      <td>--</td>\n",
       "      <td>9.08535e+15</td>\n",
       "      <td>9.22274e+15</td>\n",
       "      <td>1.33337</td>\n",
       "      <td>--</td>\n",
       "      <td>19875.1</td>\n",
       "      <td>9.22026</td>\n",
       "      <td>5.07843</td>\n",
       "      <td>0.668078</td>\n",
       "      <td>0.0908986</td>\n",
       "      <td>9.03923</td>\n",
       "      <td>4.9794</td>\n",
       "      <td>124.599</td>\n",
       "      <td>0.531459</td>\n",
       "      <td>0.0500798</td>\n",
       "      <td>326.837</td>\n",
       "      <td>1.66441</td>\n",
       "      <td>356.994</td>\n",
       "    </tr>\n",
       "    <tr>\n",
       "      <th>min</th>\n",
       "      <td>--</td>\n",
       "      <td>2014-12-15T18:23:50.043213824</td>\n",
       "      <td>1899-12-31T23:59:43.370698752</td>\n",
       "      <td>0</td>\n",
       "      <td>--</td>\n",
       "      <td>-4.08401e+07</td>\n",
       "      <td>-874.003</td>\n",
       "      <td>-78.1947</td>\n",
       "      <td>1</td>\n",
       "      <td>0</td>\n",
       "      <td>-781.833</td>\n",
       "      <td>-78.1947</td>\n",
       "      <td>-496</td>\n",
       "      <td>-79</td>\n",
       "      <td>-3</td>\n",
       "      <td>-440</td>\n",
       "      <td>-99</td>\n",
       "      <td>-496.3</td>\n",
       "    </tr>\n",
       "    <tr>\n",
       "      <th>max</th>\n",
       "      <td>--</td>\n",
       "      <td>2016-01-01T00:00:49.632313344</td>\n",
       "      <td>2253-08-23T08:00:13.061652480</td>\n",
       "      <td>9</td>\n",
       "      <td>--</td>\n",
       "      <td>1.98623e+08</td>\n",
       "      <td>172.6</td>\n",
       "      <td>404.867</td>\n",
       "      <td>99</td>\n",
       "      <td>1</td>\n",
       "      <td>172.6</td>\n",
       "      <td>483.45</td>\n",
       "      <td>825999</td>\n",
       "      <td>999.99</td>\n",
       "      <td>91</td>\n",
       "      <td>3.95059e+06</td>\n",
       "      <td>1901.4</td>\n",
       "      <td>3.95061e+06</td>\n",
       "    </tr>\n",
       "  </tbody>\n",
       "</table>\n",
       "</div>"
      ],
      "text/plain": [
       "       vendor_id                pickup_datetime  \\\n",
       "dtype        str                 datetime64[ns]   \n",
       "count  146112991                      146112991   \n",
       "NA             0                              0   \n",
       "mean          --  1970-01-01T00:01:25.835533096   \n",
       "std           --                    9.08535e+15   \n",
       "min           --  2014-12-15T18:23:50.043213824   \n",
       "max           --  2016-01-01T00:00:49.632313344   \n",
       "\n",
       "                    dropoff_datetime     passenger_count payment_type  \\\n",
       "dtype                 datetime64[ns]               int64          str   \n",
       "count                      146112991           146112991    146112991   \n",
       "NA                                 0                   0            0   \n",
       "mean   1970-01-01T00:00:05.863547737  1.6806633573054433           --   \n",
       "std                      9.22274e+15             1.33337           --   \n",
       "min    1899-12-31T23:59:43.370698752                   0           --   \n",
       "max    2253-08-23T08:00:13.061652480                   9           --   \n",
       "\n",
       "            trip_distance    pickup_longitude     pickup_latitude  \\\n",
       "dtype             float32             float32             float32   \n",
       "count           146112991           146112991           146112991   \n",
       "NA                      0                   0                   0   \n",
       "mean   13.137274561804015  -72.80689147618534  40.107714232654736   \n",
       "std               19875.1             9.22026             5.07843   \n",
       "min          -4.08401e+07            -874.003            -78.1947   \n",
       "max           1.98623e+08               172.6             404.867   \n",
       "\n",
       "                rate_code    store_and_fwd_flag   dropoff_longitude  \\\n",
       "dtype             float32               float32             float32   \n",
       "count           146112991             146112989           146112991   \n",
       "NA                      0                     2                   0   \n",
       "mean   1.0420616124407445  0.008331969719680431  -72.85359844626949   \n",
       "std              0.668078             0.0908986             9.03923   \n",
       "min                     1                     0            -781.833   \n",
       "max                    99                     1               172.6   \n",
       "\n",
       "        dropoff_latitude         fare_amount           surcharge  \\\n",
       "dtype            float32             float32             float32   \n",
       "count          146112990           146112990           146112990   \n",
       "NA                     1                   1                   1   \n",
       "mean   40.13439191319038  12.938776600018073  0.3142660957767585   \n",
       "std               4.9794             124.599            0.531459   \n",
       "min             -78.1947                -496                 -79   \n",
       "max               483.45              825999              999.99   \n",
       "\n",
       "                  mta_tax          tip_amount        tolls_amount  \\\n",
       "dtype             float32             float32             float32   \n",
       "count           146112990           146112990           146112990   \n",
       "NA                      1                   1                   1   \n",
       "mean   0.4975636310707298  1.7284416808430478  0.3077738357453542   \n",
       "std             0.0500798             326.837             1.66441   \n",
       "min                    -3                -440                 -99   \n",
       "max                    91         3.95059e+06              1901.4   \n",
       "\n",
       "             total_amount  \n",
       "dtype             float32  \n",
       "count           146112990  \n",
       "NA                      1  \n",
       "mean   16.096247205005447  \n",
       "std               356.994  \n",
       "min                -496.3  \n",
       "max           3.95061e+06  "
      ]
     },
     "execution_count": 7,
     "metadata": {},
     "output_type": "execute_result"
    }
   ],
   "source": [
    "%%time\n",
    "vdf.describe()\n",
    "# DON'T Run This Code Block~!! It Burns CPU And Mem."
   ]
  },
  {
   "cell_type": "markdown",
   "id": "completed-stupid",
   "metadata": {},
   "source": [
    "### Fetch data by row No."
   ]
  },
  {
   "cell_type": "code",
   "execution_count": 10,
   "id": "coordinated-specification",
   "metadata": {},
   "outputs": [
    {
     "name": "stdout",
     "output_type": "stream",
     "text": [
      "CPU times: user 1.72 ms, sys: 34 µs, total: 1.75 ms\n",
      "Wall time: 1.8 ms\n"
     ]
    },
    {
     "data": {
      "text/html": [
       "<table>\n",
       "<thead>\n",
       "<tr><th>#                            </th><th>vendor_id  </th><th>pickup_datetime              </th><th>dropoff_datetime             </th><th style=\"text-align: right;\">  passenger_count</th><th>payment_type  </th><th style=\"text-align: right;\">  trip_distance</th><th style=\"text-align: right;\">  pickup_longitude</th><th style=\"text-align: right;\">  pickup_latitude</th><th style=\"text-align: right;\">  rate_code</th><th style=\"text-align: right;\">  store_and_fwd_flag</th><th style=\"text-align: right;\">  dropoff_longitude</th><th style=\"text-align: right;\">  dropoff_latitude</th><th style=\"text-align: right;\">  fare_amount</th><th style=\"text-align: right;\">  surcharge</th><th style=\"text-align: right;\">  mta_tax</th><th style=\"text-align: right;\">  tip_amount</th><th style=\"text-align: right;\">  tolls_amount</th><th style=\"text-align: right;\">  total_amount</th></tr>\n",
       "</thead>\n",
       "<tbody>\n",
       "<tr><td>&lt;i style=&#x27;opacity: 0.6&#x27;&gt;0&lt;/i&gt;</td><td>VTS        </td><td>2014-12-16 02:26:00.000000000</td><td>2014-12-16 02:28:00.000000000</td><td style=\"text-align: right;\">                1</td><td>CSH           </td><td style=\"text-align: right;\">           1.09</td><td style=\"text-align: right;\">          -73.9867</td><td style=\"text-align: right;\">          40.7564</td><td style=\"text-align: right;\">          1</td><td style=\"text-align: right;\">                 nan</td><td style=\"text-align: right;\">           -73.9965</td><td style=\"text-align: right;\">           40.7429</td><td style=\"text-align: right;\">            5</td><td style=\"text-align: right;\">        0.5</td><td style=\"text-align: right;\">      0.5</td><td style=\"text-align: right;\">        0   </td><td style=\"text-align: right;\">             0</td><td style=\"text-align: right;\">          6   </td></tr>\n",
       "<tr><td>&lt;i style=&#x27;opacity: 0.6&#x27;&gt;1&lt;/i&gt;</td><td>VTS        </td><td>2014-12-15 18:23:00.000000000</td><td>2014-12-15 18:58:00.000000000</td><td style=\"text-align: right;\">                2</td><td>              </td><td style=\"text-align: right;\">           6.28</td><td style=\"text-align: right;\">          -74.0042</td><td style=\"text-align: right;\">          40.7212</td><td style=\"text-align: right;\">          1</td><td style=\"text-align: right;\">                 nan</td><td style=\"text-align: right;\">           -73.97  </td><td style=\"text-align: right;\">          nan     </td><td style=\"text-align: right;\">          nan</td><td style=\"text-align: right;\">      nan  </td><td style=\"text-align: right;\">    nan  </td><td style=\"text-align: right;\">      nan   </td><td style=\"text-align: right;\">           nan</td><td style=\"text-align: right;\">        nan   </td></tr>\n",
       "<tr><td>&lt;i style=&#x27;opacity: 0.6&#x27;&gt;2&lt;/i&gt;</td><td>VTS        </td><td>2015-01-15 19:05:39.000000000</td><td>2015-01-15 19:23:42.000000000</td><td style=\"text-align: right;\">                1</td><td>1             </td><td style=\"text-align: right;\">           1.59</td><td style=\"text-align: right;\">          -73.9939</td><td style=\"text-align: right;\">          40.7501</td><td style=\"text-align: right;\">          1</td><td style=\"text-align: right;\">                   0</td><td style=\"text-align: right;\">           -73.9748</td><td style=\"text-align: right;\">           40.7506</td><td style=\"text-align: right;\">           12</td><td style=\"text-align: right;\">        1  </td><td style=\"text-align: right;\">      0.5</td><td style=\"text-align: right;\">        3.25</td><td style=\"text-align: right;\">             0</td><td style=\"text-align: right;\">         17.05</td></tr>\n",
       "</tbody>\n",
       "</table>"
      ],
      "text/plain": [
       "  #  vendor_id    pickup_datetime                dropoff_datetime                 passenger_count  payment_type      trip_distance    pickup_longitude    pickup_latitude    rate_code    store_and_fwd_flag    dropoff_longitude    dropoff_latitude    fare_amount    surcharge    mta_tax    tip_amount    tolls_amount    total_amount\n",
       "  0  VTS          2014-12-16 02:26:00.000000000  2014-12-16 02:28:00.000000000                  1  CSH                        1.09            -73.9867            40.7564            1                   nan             -73.9965             40.7429              5          0.5        0.5          0                  0            6\n",
       "  1  VTS          2014-12-15 18:23:00.000000000  2014-12-15 18:58:00.000000000                  2                             6.28            -74.0042            40.7212            1                   nan             -73.97              nan                 nan        nan        nan          nan                nan          nan\n",
       "  2  VTS          2015-01-15 19:05:39.000000000  2015-01-15 19:23:42.000000000                  1  1                          1.59            -73.9939            40.7501            1                     0             -73.9748             40.7506             12          1          0.5          3.25               0           17.05"
      ]
     },
     "execution_count": 10,
     "metadata": {},
     "output_type": "execute_result"
    }
   ],
   "source": [
    "%%time\n",
    "vdf.head(3)"
   ]
  },
  {
   "cell_type": "code",
   "execution_count": 16,
   "id": "thirty-preserve",
   "metadata": {},
   "outputs": [
    {
     "name": "stdout",
     "output_type": "stream",
     "text": [
      "CPU times: user 1.84 ms, sys: 24 µs, total: 1.86 ms\n",
      "Wall time: 1.88 ms\n"
     ]
    },
    {
     "data": {
      "text/html": [
       "<table>\n",
       "<thead>\n",
       "<tr><th>#                            </th><th>vendor_id  </th><th>pickup_datetime              </th><th>dropoff_datetime             </th><th style=\"text-align: right;\">  passenger_count</th><th style=\"text-align: right;\">  payment_type</th><th style=\"text-align: right;\">  trip_distance</th><th style=\"text-align: right;\">  pickup_longitude</th><th style=\"text-align: right;\">  pickup_latitude</th><th style=\"text-align: right;\">  rate_code</th><th style=\"text-align: right;\">  store_and_fwd_flag</th><th style=\"text-align: right;\">  dropoff_longitude</th><th style=\"text-align: right;\">  dropoff_latitude</th><th style=\"text-align: right;\">  fare_amount</th><th style=\"text-align: right;\">  surcharge</th><th style=\"text-align: right;\">  mta_tax</th><th style=\"text-align: right;\">  tip_amount</th><th style=\"text-align: right;\">  tolls_amount</th><th style=\"text-align: right;\">  total_amount</th></tr>\n",
       "</thead>\n",
       "<tbody>\n",
       "<tr><td>&lt;i style=&#x27;opacity: 0.6&#x27;&gt;0&lt;/i&gt;</td><td>VTS        </td><td>2015-12-31 23:59:59.000000000</td><td>2016-01-01 00:10:26.000000000</td><td style=\"text-align: right;\">                1</td><td style=\"text-align: right;\">             2</td><td style=\"text-align: right;\">           1.96</td><td style=\"text-align: right;\">          -73.9976</td><td style=\"text-align: right;\">          40.7257</td><td style=\"text-align: right;\">          1</td><td style=\"text-align: right;\">                   0</td><td style=\"text-align: right;\">           -74.0171</td><td style=\"text-align: right;\">           40.7053</td><td style=\"text-align: right;\">          8.5</td><td style=\"text-align: right;\">        0.5</td><td style=\"text-align: right;\">      0.5</td><td style=\"text-align: right;\">        0   </td><td style=\"text-align: right;\">             0</td><td style=\"text-align: right;\">          9.8 </td></tr>\n",
       "<tr><td>&lt;i style=&#x27;opacity: 0.6&#x27;&gt;1&lt;/i&gt;</td><td>VTS        </td><td>2015-12-31 23:59:59.000000000</td><td>2016-01-01 00:21:30.000000000</td><td style=\"text-align: right;\">                1</td><td style=\"text-align: right;\">             1</td><td style=\"text-align: right;\">           1.06</td><td style=\"text-align: right;\">          -73.9844</td><td style=\"text-align: right;\">          40.7673</td><td style=\"text-align: right;\">          1</td><td style=\"text-align: right;\">                   0</td><td style=\"text-align: right;\">           -73.991 </td><td style=\"text-align: right;\">           40.7606</td><td style=\"text-align: right;\">         13.5</td><td style=\"text-align: right;\">        0.5</td><td style=\"text-align: right;\">      0.5</td><td style=\"text-align: right;\">        2.96</td><td style=\"text-align: right;\">             0</td><td style=\"text-align: right;\">         17.76</td></tr>\n",
       "</tbody>\n",
       "</table>"
      ],
      "text/plain": [
       "  #  vendor_id    pickup_datetime                dropoff_datetime                 passenger_count    payment_type    trip_distance    pickup_longitude    pickup_latitude    rate_code    store_and_fwd_flag    dropoff_longitude    dropoff_latitude    fare_amount    surcharge    mta_tax    tip_amount    tolls_amount    total_amount\n",
       "  0  VTS          2015-12-31 23:59:59.000000000  2016-01-01 00:10:26.000000000                  1               2             1.96            -73.9976            40.7257            1                     0             -74.0171             40.7053            8.5          0.5        0.5          0                  0            9.8\n",
       "  1  VTS          2015-12-31 23:59:59.000000000  2016-01-01 00:21:30.000000000                  1               1             1.06            -73.9844            40.7673            1                     0             -73.991              40.7606           13.5          0.5        0.5          2.96               0           17.76"
      ]
     },
     "execution_count": 16,
     "metadata": {},
     "output_type": "execute_result"
    }
   ],
   "source": [
    "%%time\n",
    "vdf.tail(2)"
   ]
  },
  {
   "cell_type": "code",
   "execution_count": 12,
   "id": "extraordinary-money",
   "metadata": {},
   "outputs": [
    {
     "name": "stdout",
     "output_type": "stream",
     "text": [
      "CPU times: user 2.22 ms, sys: 55 µs, total: 2.28 ms\n",
      "Wall time: 2.33 ms\n"
     ]
    },
    {
     "data": {
      "text/html": [
       "<table>\n",
       "<thead>\n",
       "<tr><th>#                            </th><th>vendor_id  </th><th>pickup_datetime              </th><th>dropoff_datetime             </th><th style=\"text-align: right;\">  passenger_count</th><th>payment_type  </th><th style=\"text-align: right;\">  trip_distance</th><th style=\"text-align: right;\">  pickup_longitude</th><th style=\"text-align: right;\">  pickup_latitude</th><th style=\"text-align: right;\">  rate_code</th><th style=\"text-align: right;\">  store_and_fwd_flag</th><th style=\"text-align: right;\">  dropoff_longitude</th><th style=\"text-align: right;\">  dropoff_latitude</th><th style=\"text-align: right;\">  fare_amount</th><th style=\"text-align: right;\">  surcharge</th><th style=\"text-align: right;\">  mta_tax</th><th style=\"text-align: right;\">  tip_amount</th><th style=\"text-align: right;\">  tolls_amount</th><th style=\"text-align: right;\">  total_amount</th></tr>\n",
       "</thead>\n",
       "<tbody>\n",
       "<tr><td>&lt;i style=&#x27;opacity: 0.6&#x27;&gt;0&lt;/i&gt;</td><td>VTS        </td><td>2014-12-16 02:26:00.000000000</td><td>2014-12-16 02:28:00.000000000</td><td style=\"text-align: right;\">                1</td><td>CSH           </td><td style=\"text-align: right;\">           1.09</td><td style=\"text-align: right;\">          -73.9867</td><td style=\"text-align: right;\">          40.7564</td><td style=\"text-align: right;\">          1</td><td style=\"text-align: right;\">                 nan</td><td style=\"text-align: right;\">           -73.9965</td><td style=\"text-align: right;\">           40.7429</td><td style=\"text-align: right;\">            5</td><td style=\"text-align: right;\">        0.5</td><td style=\"text-align: right;\">      0.5</td><td style=\"text-align: right;\">           0</td><td style=\"text-align: right;\">             0</td><td style=\"text-align: right;\">             6</td></tr>\n",
       "<tr><td>&lt;i style=&#x27;opacity: 0.6&#x27;&gt;1&lt;/i&gt;</td><td>VTS        </td><td>2014-12-15 18:23:00.000000000</td><td>2014-12-15 18:58:00.000000000</td><td style=\"text-align: right;\">                2</td><td>              </td><td style=\"text-align: right;\">           6.28</td><td style=\"text-align: right;\">          -74.0042</td><td style=\"text-align: right;\">          40.7212</td><td style=\"text-align: right;\">          1</td><td style=\"text-align: right;\">                 nan</td><td style=\"text-align: right;\">           -73.97  </td><td style=\"text-align: right;\">          nan     </td><td style=\"text-align: right;\">          nan</td><td style=\"text-align: right;\">      nan  </td><td style=\"text-align: right;\">    nan  </td><td style=\"text-align: right;\">         nan</td><td style=\"text-align: right;\">           nan</td><td style=\"text-align: right;\">           nan</td></tr>\n",
       "</tbody>\n",
       "</table>"
      ],
      "text/plain": [
       "  #  vendor_id    pickup_datetime                dropoff_datetime                 passenger_count  payment_type      trip_distance    pickup_longitude    pickup_latitude    rate_code    store_and_fwd_flag    dropoff_longitude    dropoff_latitude    fare_amount    surcharge    mta_tax    tip_amount    tolls_amount    total_amount\n",
       "  0  VTS          2014-12-16 02:26:00.000000000  2014-12-16 02:28:00.000000000                  1  CSH                        1.09            -73.9867            40.7564            1                   nan             -73.9965             40.7429              5          0.5        0.5             0               0               6\n",
       "  1  VTS          2014-12-15 18:23:00.000000000  2014-12-15 18:58:00.000000000                  2                             6.28            -74.0042            40.7212            1                   nan             -73.97              nan                 nan        nan        nan             nan             nan             nan"
      ]
     },
     "execution_count": 12,
     "metadata": {},
     "output_type": "execute_result"
    }
   ],
   "source": [
    "%%time\n",
    "vdf[:2]"
   ]
  },
  {
   "cell_type": "code",
   "execution_count": 14,
   "id": "faced-pressing",
   "metadata": {},
   "outputs": [
    {
     "name": "stdout",
     "output_type": "stream",
     "text": [
      "CPU times: user 2.28 ms, sys: 21 µs, total: 2.3 ms\n",
      "Wall time: 2.35 ms\n"
     ]
    },
    {
     "data": {
      "text/html": [
       "<table>\n",
       "<thead>\n",
       "<tr><th>#                            </th><th>vendor_id  </th><th>pickup_datetime              </th><th>dropoff_datetime             </th><th style=\"text-align: right;\">  passenger_count</th><th style=\"text-align: right;\">  payment_type</th><th style=\"text-align: right;\">  trip_distance</th><th style=\"text-align: right;\">  pickup_longitude</th><th style=\"text-align: right;\">  pickup_latitude</th><th style=\"text-align: right;\">  rate_code</th><th style=\"text-align: right;\">  store_and_fwd_flag</th><th style=\"text-align: right;\">  dropoff_longitude</th><th style=\"text-align: right;\">  dropoff_latitude</th><th style=\"text-align: right;\">  fare_amount</th><th style=\"text-align: right;\">  surcharge</th><th style=\"text-align: right;\">  mta_tax</th><th style=\"text-align: right;\">  tip_amount</th><th style=\"text-align: right;\">  tolls_amount</th><th style=\"text-align: right;\">  total_amount</th></tr>\n",
       "</thead>\n",
       "<tbody>\n",
       "<tr><td>&lt;i style=&#x27;opacity: 0.6&#x27;&gt;0&lt;/i&gt;</td><td>VTS        </td><td>2015-12-31 23:59:59.000000000</td><td>2016-01-01 00:10:26.000000000</td><td style=\"text-align: right;\">                1</td><td style=\"text-align: right;\">             2</td><td style=\"text-align: right;\">           1.96</td><td style=\"text-align: right;\">          -73.9976</td><td style=\"text-align: right;\">          40.7257</td><td style=\"text-align: right;\">          1</td><td style=\"text-align: right;\">                   0</td><td style=\"text-align: right;\">           -74.0171</td><td style=\"text-align: right;\">           40.7053</td><td style=\"text-align: right;\">          8.5</td><td style=\"text-align: right;\">        0.5</td><td style=\"text-align: right;\">      0.5</td><td style=\"text-align: right;\">        0   </td><td style=\"text-align: right;\">             0</td><td style=\"text-align: right;\">          9.8 </td></tr>\n",
       "<tr><td>&lt;i style=&#x27;opacity: 0.6&#x27;&gt;1&lt;/i&gt;</td><td>VTS        </td><td>2015-12-31 23:59:59.000000000</td><td>2016-01-01 00:21:30.000000000</td><td style=\"text-align: right;\">                1</td><td style=\"text-align: right;\">             1</td><td style=\"text-align: right;\">           1.06</td><td style=\"text-align: right;\">          -73.9844</td><td style=\"text-align: right;\">          40.7673</td><td style=\"text-align: right;\">          1</td><td style=\"text-align: right;\">                   0</td><td style=\"text-align: right;\">           -73.991 </td><td style=\"text-align: right;\">           40.7606</td><td style=\"text-align: right;\">         13.5</td><td style=\"text-align: right;\">        0.5</td><td style=\"text-align: right;\">      0.5</td><td style=\"text-align: right;\">        2.96</td><td style=\"text-align: right;\">             0</td><td style=\"text-align: right;\">         17.76</td></tr>\n",
       "</tbody>\n",
       "</table>"
      ],
      "text/plain": [
       "  #  vendor_id    pickup_datetime                dropoff_datetime                 passenger_count    payment_type    trip_distance    pickup_longitude    pickup_latitude    rate_code    store_and_fwd_flag    dropoff_longitude    dropoff_latitude    fare_amount    surcharge    mta_tax    tip_amount    tolls_amount    total_amount\n",
       "  0  VTS          2015-12-31 23:59:59.000000000  2016-01-01 00:10:26.000000000                  1               2             1.96            -73.9976            40.7257            1                     0             -74.0171             40.7053            8.5          0.5        0.5          0                  0            9.8\n",
       "  1  VTS          2015-12-31 23:59:59.000000000  2016-01-01 00:21:30.000000000                  1               1             1.06            -73.9844            40.7673            1                     0             -73.991              40.7606           13.5          0.5        0.5          2.96               0           17.76"
      ]
     },
     "execution_count": 14,
     "metadata": {},
     "output_type": "execute_result"
    }
   ],
   "source": [
    "%%time\n",
    "vdf[146112989:]"
   ]
  },
  {
   "cell_type": "code",
   "execution_count": 15,
   "id": "hungarian-somerset",
   "metadata": {},
   "outputs": [
    {
     "name": "stdout",
     "output_type": "stream",
     "text": [
      "CPU times: user 2.01 ms, sys: 67 µs, total: 2.07 ms\n",
      "Wall time: 2.11 ms\n"
     ]
    },
    {
     "data": {
      "text/html": [
       "<table>\n",
       "<thead>\n",
       "<tr><th>#                            </th><th>vendor_id  </th><th>pickup_datetime              </th><th>dropoff_datetime             </th><th style=\"text-align: right;\">  passenger_count</th><th style=\"text-align: right;\">  payment_type</th><th style=\"text-align: right;\">  trip_distance</th><th style=\"text-align: right;\">  pickup_longitude</th><th style=\"text-align: right;\">  pickup_latitude</th><th style=\"text-align: right;\">  rate_code</th><th style=\"text-align: right;\">  store_and_fwd_flag</th><th style=\"text-align: right;\">  dropoff_longitude</th><th style=\"text-align: right;\">  dropoff_latitude</th><th style=\"text-align: right;\">  fare_amount</th><th style=\"text-align: right;\">  surcharge</th><th style=\"text-align: right;\">  mta_tax</th><th style=\"text-align: right;\">  tip_amount</th><th style=\"text-align: right;\">  tolls_amount</th><th style=\"text-align: right;\">  total_amount</th></tr>\n",
       "</thead>\n",
       "<tbody>\n",
       "<tr><td>&lt;i style=&#x27;opacity: 0.6&#x27;&gt;0&lt;/i&gt;</td><td>VTS        </td><td>2015-01-12 17:14:26.000000000</td><td>2015-01-12 17:38:29.000000000</td><td style=\"text-align: right;\">                1</td><td style=\"text-align: right;\">             1</td><td style=\"text-align: right;\">           3.16</td><td style=\"text-align: right;\">          -73.9846</td><td style=\"text-align: right;\">          40.7424</td><td style=\"text-align: right;\">          1</td><td style=\"text-align: right;\">                   0</td><td style=\"text-align: right;\">           -73.9531</td><td style=\"text-align: right;\">           40.7692</td><td style=\"text-align: right;\">         16.5</td><td style=\"text-align: right;\">          1</td><td style=\"text-align: right;\">      0.5</td><td style=\"text-align: right;\">        3.5 </td><td style=\"text-align: right;\">             0</td><td style=\"text-align: right;\">         21.8 </td></tr>\n",
       "<tr><td>&lt;i style=&#x27;opacity: 0.6&#x27;&gt;1&lt;/i&gt;</td><td>VTS        </td><td>2015-01-12 17:14:27.000000000</td><td>2015-01-12 17:23:32.000000000</td><td style=\"text-align: right;\">                1</td><td style=\"text-align: right;\">             1</td><td style=\"text-align: right;\">           1.51</td><td style=\"text-align: right;\">            0     </td><td style=\"text-align: right;\">           0     </td><td style=\"text-align: right;\">          1</td><td style=\"text-align: right;\">                   0</td><td style=\"text-align: right;\">             0     </td><td style=\"text-align: right;\">            0     </td><td style=\"text-align: right;\">          8  </td><td style=\"text-align: right;\">          1</td><td style=\"text-align: right;\">      0.5</td><td style=\"text-align: right;\">        1.35</td><td style=\"text-align: right;\">             0</td><td style=\"text-align: right;\">         11.15</td></tr>\n",
       "</tbody>\n",
       "</table>"
      ],
      "text/plain": [
       "  #  vendor_id    pickup_datetime                dropoff_datetime                 passenger_count    payment_type    trip_distance    pickup_longitude    pickup_latitude    rate_code    store_and_fwd_flag    dropoff_longitude    dropoff_latitude    fare_amount    surcharge    mta_tax    tip_amount    tolls_amount    total_amount\n",
       "  0  VTS          2015-01-12 17:14:26.000000000  2015-01-12 17:38:29.000000000                  1               1             3.16            -73.9846            40.7424            1                     0             -73.9531             40.7692           16.5            1        0.5          3.5                0           21.8\n",
       "  1  VTS          2015-01-12 17:14:27.000000000  2015-01-12 17:23:32.000000000                  1               1             1.51              0                  0                 1                     0               0                   0                 8              1        0.5          1.35               0           11.15"
      ]
     },
     "execution_count": 15,
     "metadata": {},
     "output_type": "execute_result"
    }
   ],
   "source": [
    "%%time\n",
    "vdf[1000000:1000002]"
   ]
  },
  {
   "cell_type": "code",
   "execution_count": 18,
   "id": "seeing-fiber",
   "metadata": {},
   "outputs": [
    {
     "name": "stdout",
     "output_type": "stream",
     "text": [
      "CPU times: user 941 µs, sys: 3 µs, total: 944 µs\n",
      "Wall time: 958 µs\n"
     ]
    },
    {
     "data": {
      "text/html": [
       "<table>\n",
       "<thead>\n",
       "<tr><th>#                            </th><th>vendor_id  </th><th>pickup_datetime              </th><th style=\"text-align: right;\">  payment_type</th></tr>\n",
       "</thead>\n",
       "<tbody>\n",
       "<tr><td>&lt;i style=&#x27;opacity: 0.6&#x27;&gt;0&lt;/i&gt;</td><td>CMT        </td><td>2015-01-10 20:33:39.000000000</td><td style=\"text-align: right;\">             2</td></tr>\n",
       "<tr><td>&lt;i style=&#x27;opacity: 0.6&#x27;&gt;1&lt;/i&gt;</td><td>CMT        </td><td>2015-01-10 20:33:40.000000000</td><td style=\"text-align: right;\">             1</td></tr>\n",
       "<tr><td>&lt;i style=&#x27;opacity: 0.6&#x27;&gt;2&lt;/i&gt;</td><td>CMT        </td><td>2015-01-10 20:33:40.000000000</td><td style=\"text-align: right;\">             1</td></tr>\n",
       "<tr><td>&lt;i style=&#x27;opacity: 0.6&#x27;&gt;3&lt;/i&gt;</td><td>CMT        </td><td>2015-01-10 20:33:41.000000000</td><td style=\"text-align: right;\">             1</td></tr>\n",
       "<tr><td>&lt;i style=&#x27;opacity: 0.6&#x27;&gt;4&lt;/i&gt;</td><td>CMT        </td><td>2015-01-10 20:33:41.000000000</td><td style=\"text-align: right;\">             2</td></tr>\n",
       "</tbody>\n",
       "</table>"
      ],
      "text/plain": [
       "  #  vendor_id    pickup_datetime                  payment_type\n",
       "  0  CMT          2015-01-10 20:33:39.000000000               2\n",
       "  1  CMT          2015-01-10 20:33:40.000000000               1\n",
       "  2  CMT          2015-01-10 20:33:40.000000000               1\n",
       "  3  CMT          2015-01-10 20:33:41.000000000               1\n",
       "  4  CMT          2015-01-10 20:33:41.000000000               2"
      ]
     },
     "execution_count": 18,
     "metadata": {},
     "output_type": "execute_result"
    }
   ],
   "source": [
    "%%time\n",
    "vdf[10:15][['vendor_id','pickup_datetime','payment_type']]"
   ]
  },
  {
   "cell_type": "code",
   "execution_count": 19,
   "id": "stylish-girlfriend",
   "metadata": {},
   "outputs": [
    {
     "name": "stdout",
     "output_type": "stream",
     "text": [
      "CPU times: user 721 µs, sys: 1e+03 ns, total: 722 µs\n",
      "Wall time: 730 µs\n"
     ]
    },
    {
     "data": {
      "text/html": [
       "<table>\n",
       "<thead>\n",
       "<tr><th>#                            </th><th>vendor_id  </th><th style=\"text-align: right;\">  trip_distance</th><th style=\"text-align: right;\">  fare_amount</th></tr>\n",
       "</thead>\n",
       "<tbody>\n",
       "<tr><td>&lt;i style=&#x27;opacity: 0.6&#x27;&gt;0&lt;/i&gt;</td><td>VTS        </td><td style=\"text-align: right;\">           1.2 </td><td style=\"text-align: right;\">          7.5</td></tr>\n",
       "<tr><td>&lt;i style=&#x27;opacity: 0.6&#x27;&gt;1&lt;/i&gt;</td><td>CMT        </td><td style=\"text-align: right;\">           2   </td><td style=\"text-align: right;\">          7.5</td></tr>\n",
       "<tr><td>&lt;i style=&#x27;opacity: 0.6&#x27;&gt;2&lt;/i&gt;</td><td>CMT        </td><td style=\"text-align: right;\">           3.8 </td><td style=\"text-align: right;\">         13.5</td></tr>\n",
       "<tr><td>&lt;i style=&#x27;opacity: 0.6&#x27;&gt;3&lt;/i&gt;</td><td>VTS        </td><td style=\"text-align: right;\">           1.96</td><td style=\"text-align: right;\">          8.5</td></tr>\n",
       "<tr><td>&lt;i style=&#x27;opacity: 0.6&#x27;&gt;4&lt;/i&gt;</td><td>VTS        </td><td style=\"text-align: right;\">           1.06</td><td style=\"text-align: right;\">         13.5</td></tr>\n",
       "</tbody>\n",
       "</table>"
      ],
      "text/plain": [
       "  #  vendor_id      trip_distance    fare_amount\n",
       "  0  VTS                     1.2             7.5\n",
       "  1  CMT                     2               7.5\n",
       "  2  CMT                     3.8            13.5\n",
       "  3  VTS                     1.96            8.5\n",
       "  4  VTS                     1.06           13.5"
      ]
     },
     "execution_count": 19,
     "metadata": {},
     "output_type": "execute_result"
    }
   ],
   "source": [
    "%%time\n",
    "vdf[['vendor_id','trip_distance','fare_amount']].tail(5)"
   ]
  },
  {
   "cell_type": "code",
   "execution_count": 20,
   "id": "stable-damage",
   "metadata": {},
   "outputs": [
    {
     "name": "stdout",
     "output_type": "stream",
     "text": [
      "CPU times: user 263 µs, sys: 125 µs, total: 388 µs\n",
      "Wall time: 397 µs\n"
     ]
    },
    {
     "data": {
      "text/html": [
       "<table>\n",
       "<thead>\n",
       "<tr><th>#                            </th><th>vendor_id  </th></tr>\n",
       "</thead>\n",
       "<tbody>\n",
       "<tr><td>&lt;i style=&#x27;opacity: 0.6&#x27;&gt;0&lt;/i&gt;</td><td>V          </td></tr>\n",
       "<tr><td>&lt;i style=&#x27;opacity: 0.6&#x27;&gt;1&lt;/i&gt;</td><td>C          </td></tr>\n",
       "</tbody>\n",
       "</table>"
      ],
      "text/plain": [
       "  #  vendor_id\n",
       "  0  V\n",
       "  1  C"
      ]
     },
     "execution_count": 20,
     "metadata": {},
     "output_type": "execute_result"
    }
   ],
   "source": [
    "%%time\n",
    "import numpy as np\n",
    "wanted_vendor_ls = np.array(['V', 'C'])\n",
    "ds1 = vaex.from_arrays(vendor_id=wanted_vendor_ls)\n",
    "ds1\n",
    "# df_10000r_ds = df[:100]\n",
    "# https://towardsdatascience.com/7-reasons-why-i-love-vaex-for-data-science-99008bc8044b\n",
    "# df_10000r_ds[(df_10000r_ds.vendor_id =='V') & (df_10000r_ds.vendor_id=='C')]\n",
    "# df_10000r_ds[(df_10000r_ds.vendor_id =='VTS') | (df_10000r_ds.vendor_id =='CMT')]"
   ]
  },
  {
   "cell_type": "code",
   "execution_count": 35,
   "id": "martial-advisory",
   "metadata": {},
   "outputs": [
    {
     "name": "stdout",
     "output_type": "stream",
     "text": [
      "number of rows: 22\n"
     ]
    }
   ],
   "source": [
    "vdf_100_1st = vdf[:100]\n",
    "# vdf_100_1st_filtered=vdf_100_1st[(vdf_100_1st.vendor_id =='VTS') | (vdf_100_1st.vendor_id =='CMT')][['vendor_id','pickup_datetime']]\n",
    "vdf_100_1st_filtered=vdf_100_1st[(vdf_100_1st.vendor_id =='CMT')][['vendor_id','pickup_datetime']].head(30)\n",
    "print(f'number of rows: {vdf_100_1st_filtered.shape[0]:,}')"
   ]
  },
  {
   "cell_type": "code",
   "execution_count": 38,
   "id": "removable-population",
   "metadata": {},
   "outputs": [
    {
     "data": {
      "text/html": [
       "<table>\n",
       "<thead>\n",
       "<tr><th>#                            </th><th>vendor_id  </th><th>pickup_datetime              </th></tr>\n",
       "</thead>\n",
       "<tbody>\n",
       "<tr><td>&lt;i style=&#x27;opacity: 0.6&#x27;&gt;0&lt;/i&gt;</td><td>VTS        </td><td>2014-12-16 02:26:00.000000000</td></tr>\n",
       "<tr><td>&lt;i style=&#x27;opacity: 0.6&#x27;&gt;1&lt;/i&gt;</td><td>VTS        </td><td>2014-12-15 18:23:00.000000000</td></tr>\n",
       "<tr><td>&lt;i style=&#x27;opacity: 0.6&#x27;&gt;2&lt;/i&gt;</td><td>VTS        </td><td>2015-01-15 19:05:39.000000000</td></tr>\n",
       "<tr><td>&lt;i style=&#x27;opacity: 0.6&#x27;&gt;3&lt;/i&gt;</td><td>CMT        </td><td>2015-01-10 20:33:38.000000000</td></tr>\n",
       "<tr><td>&lt;i style=&#x27;opacity: 0.6&#x27;&gt;4&lt;/i&gt;</td><td>CMT        </td><td>2015-01-10 20:33:38.000000000</td></tr>\n",
       "<tr><td>&lt;i style=&#x27;opacity: 0.6&#x27;&gt;5&lt;/i&gt;</td><td>CMT        </td><td>2015-01-10 20:33:39.000000000</td></tr>\n",
       "</tbody>\n",
       "</table>"
      ],
      "text/plain": [
       "  #  vendor_id    pickup_datetime\n",
       "  0  VTS          2014-12-16 02:26:00.000000000\n",
       "  1  VTS          2014-12-15 18:23:00.000000000\n",
       "  2  VTS          2015-01-15 19:05:39.000000000\n",
       "  3  CMT          2015-01-10 20:33:38.000000000\n",
       "  4  CMT          2015-01-10 20:33:38.000000000\n",
       "  5  CMT          2015-01-10 20:33:39.000000000"
      ]
     },
     "execution_count": 38,
     "metadata": {},
     "output_type": "execute_result"
    }
   ],
   "source": [
    "vdf_100_1st[(vdf_100_1st.vendor_id =='VTS') | (vdf_100_1st.vendor_id =='CMT')]\\\n",
    "[['vendor_id','pickup_datetime']]\\\n",
    ".head(6)"
   ]
  },
  {
   "cell_type": "code",
   "execution_count": 39,
   "id": "urban-penguin",
   "metadata": {},
   "outputs": [
    {
     "name": "stdout",
     "output_type": "stream",
     "text": [
      "# packages in environment at /Users/Jibamy/opt/miniconda3/envs/dev:\n",
      "#\n",
      "# Name                    Version                   Build  Channel\n",
      "abseil-cpp                20200225.2           hb1e8313_1    conda-forge\n",
      "aniso8601                 7.0.0                    pypi_0    pypi\n",
      "aplus                     0.11.0                     py_1    conda-forge\n",
      "appnope                   0.1.2           py38hecd8cb5_1001  \n",
      "argon2-cffi               20.1.0           py38haf1e3a3_1  \n",
      "arrow-cpp                 3.0.0            py38hf7c73f6_0  \n",
      "asgiref                   3.2.10                   pypi_0    pypi\n",
      "astroid                   2.4.2                    pypi_0    pypi\n",
      "astropy                   4.2              py38hca655e8_2    conda-forge\n",
      "async_generator           1.10               pyhd3eb1b0_0  \n",
      "attrs                     20.3.0             pyhd3eb1b0_0  \n",
      "backcall                  0.2.0              pyhd3eb1b0_0  \n",
      "beaker                    1.11.0                   pypi_0    pypi\n",
      "blas                      1.0                         mkl  \n",
      "bleach                    3.2.3              pyhd3eb1b0_0  \n",
      "blosc                     1.21.0               h2842e9f_0  \n",
      "bokeh                     2.3.0            py38h50d1736_0    conda-forge\n",
      "boost-cpp                 1.69.0            h6f8c590_1000    conda-forge\n",
      "boto3                     1.17.19            pyhd8ed1ab_0    conda-forge\n",
      "botocore                  1.20.19            pyhd8ed1ab_0    conda-forge\n",
      "bqplot                    0.12.23            pyhd8ed1ab_0    conda-forge\n",
      "branca                    0.4.2              pyhd8ed1ab_0    conda-forge\n",
      "brotli                    1.0.9                hb1e8313_2  \n",
      "brotlipy                  0.7.0           py38h9ed2024_1003  \n",
      "bzip2                     1.0.8                hc929b4f_4    conda-forge\n",
      "c-ares                    1.17.1               hc929b4f_0    conda-forge\n",
      "ca-certificates           2021.1.19            hecd8cb5_0  \n",
      "cached-property           1.5.1                      py_0    conda-forge\n",
      "cachetools                4.2.1              pyhd8ed1ab_0    conda-forge\n",
      "certifi                   2020.12.5        py38hecd8cb5_0  \n",
      "cffi                      1.14.4           py38h2125817_0  \n",
      "chardet                   3.0.4                    pypi_0    pypi\n",
      "click                     7.1.2              pyh9f0ad1d_0    conda-forge\n",
      "cloudpickle               1.6.0                      py_0    conda-forge\n",
      "cryptography              3.3.1            py38hbcfaee0_0  \n",
      "cycler                    0.10.0                     py_2    conda-forge\n",
      "cytoolz                   0.11.0           py38h5406a74_3    conda-forge\n",
      "dask                      2021.2.0           pyhd3eb1b0_0  \n",
      "dask-core                 2021.2.0           pyhd3eb1b0_0  \n",
      "dbus                      1.13.18              h18a8e69_0  \n",
      "decorator                 4.4.2              pyhd3eb1b0_0  \n",
      "defusedxml                0.6.0                      py_0  \n",
      "diskcache                 5.2.1                    pypi_0    pypi\n",
      "distributed               2021.2.0         py38h50d1736_0    conda-forge\n",
      "django                    3.1.1                    pypi_0    pypi\n",
      "django-oauth-toolkit      1.3.2                    pypi_0    pypi\n",
      "double-conversion         3.1.5                h4a8c4bd_2    conda-forge\n",
      "entrypoints               0.3                      py38_0  \n",
      "expat                     2.2.10               hb1e8313_2  \n",
      "freetype                  2.10.4               h4cff582_1    conda-forge\n",
      "fsspec                    0.8.7              pyhd8ed1ab_0    conda-forge\n",
      "future                    0.18.2           py38h50d1736_3    conda-forge\n",
      "geos                      3.8.1                h4a8c4bd_0    conda-forge\n",
      "gettext                   0.19.8.1          h7937167_1005    conda-forge\n",
      "gflags                    2.2.2             h4a8c4bd_1004    conda-forge\n",
      "glib                      2.51.4                        0    conda-forge\n",
      "glog                      0.4.0                h700f914_3    conda-forge\n",
      "graphene                  2.1.8                    pypi_0    pypi\n",
      "graphene-tornado          2.6.1                    pypi_0    pypi\n",
      "graphql-core              2.3.2                    pypi_0    pypi\n",
      "graphql-relay             2.0.1                    pypi_0    pypi\n",
      "grpc-cpp                  1.28.1               h0284957_2    conda-forge\n",
      "h5py                      2.10.0           py38h3134771_0  \n",
      "hdf5                      1.10.4               hfa1e0ec_0  \n",
      "heapdict                  1.0.1                      py_0    conda-forge\n",
      "icu                       58.2              h0a44026_1000    conda-forge\n",
      "idna                      2.10               pyhd3eb1b0_0  \n",
      "imageio                   2.9.0                      py_0    conda-forge\n",
      "importlib-metadata        2.0.0                      py_1  \n",
      "importlib_metadata        2.0.0                         1  \n",
      "intel-openmp              2019.4                      233  \n",
      "ipydatawidgets            4.2.0              pyhd3deb0d_0    conda-forge\n",
      "ipykernel                 5.3.4            py38h5ca1d4c_0  \n",
      "ipyleaflet                0.13.6             pyhd8ed1ab_1    conda-forge\n",
      "ipympl                    0.6.3              pyhd8ed1ab_0    conda-forge\n",
      "ipython                   7.21.0           py38h9bb44b7_0    conda-forge\n",
      "ipython_genutils          0.2.0              pyhd3eb1b0_1  \n",
      "ipyvolume                 0.6.0a6            pyh9f0ad1d_0    conda-forge\n",
      "ipyvue                    1.5.0              pyhd3deb0d_0    conda-forge\n",
      "ipyvuetify                1.6.2              pyh44b312d_0    conda-forge\n",
      "ipywebrtc                 0.5.0            py38h32f6830_1    conda-forge\n",
      "ipywidgets                7.6.3              pyhd3deb0d_0    conda-forge\n",
      "isort                     5.5.1                    pypi_0    pypi\n",
      "jedi                      0.18.0           py38hecd8cb5_1  \n",
      "jinja2                    2.11.2             pyhd3eb1b0_0  \n",
      "jmespath                  0.10.0             pyh9f0ad1d_0    conda-forge\n",
      "jpeg                      9d                   hbcb3906_0    conda-forge\n",
      "json5                     0.9.5                      py_0  \n",
      "jsonschema                3.2.0                      py_2  \n",
      "jupyter_client            6.1.7                      py_0  \n",
      "jupyter_core              4.7.0            py38hecd8cb5_0  \n",
      "jupyterlab                2.2.9              pyhd8ed1ab_0    conda-forge\n",
      "jupyterlab_pygments       0.1.2                      py_0  \n",
      "jupyterlab_server         1.2.0                      py_0  \n",
      "jupyterlab_widgets        1.0.0              pyhd8ed1ab_1    conda-forge\n",
      "kiwisolver                1.3.1            py38h23ab428_0  \n",
      "lazy-object-proxy         1.4.3                    pypi_0    pypi\n",
      "libboost                  1.73.0              hd4c2dcd_11  \n",
      "libcxx                    10.0.0                        1  \n",
      "libedit                   3.1.20191231         h1de35cc_1  \n",
      "libevent                  2.1.10               hddc9c9b_3    conda-forge\n",
      "libffi                    3.3                  hb1e8313_2  \n",
      "libgfortran               3.0.1                h93005f0_2  \n",
      "libiconv                  1.16                 haf1e3a3_0    conda-forge\n",
      "libpng                    1.6.37               h7cec526_2    conda-forge\n",
      "libprotobuf               3.11.4               hd174df1_0    conda-forge\n",
      "libsodium                 1.0.18               h1de35cc_0  \n",
      "libthrift                 0.13.0               h054ceb0_6  \n",
      "libtiff                   4.1.0                hcb84e12_1  \n",
      "llvm-openmp               11.0.1               h7c73e74_0    conda-forge\n",
      "locket                    0.2.0                      py_2    conda-forge\n",
      "lz4-c                     1.9.3                h23ab428_0  \n",
      "lzo                       2.10                 haf1e3a3_2  \n",
      "markupsafe                1.1.1            py38h1de35cc_1  \n",
      "matplotlib                3.2.2                         1    conda-forge\n",
      "matplotlib-base           3.2.2            py38h1300a51_1    conda-forge\n",
      "mccabe                    0.6.1                    pypi_0    pypi\n",
      "mistune                   0.8.4           py38h1de35cc_1001  \n",
      "mkl                       2019.4                      233  \n",
      "mkl-service               2.3.0            py38h9ed2024_0  \n",
      "mkl_fft                   1.3.0            py38ha059aab_0  \n",
      "mkl_random                1.1.1            py38h959d312_0  \n",
      "mock                      4.0.3              pyhd3eb1b0_0  \n",
      "msgpack-python            1.0.2            py38hf7b0b51_1  \n",
      "nbclient                  0.5.1                      py_0  \n",
      "nbconvert                 6.0.7                    py38_0  \n",
      "nbformat                  5.1.2              pyhd3eb1b0_1  \n",
      "ncurses                   6.2                  h0a44026_1  \n",
      "nest-asyncio              1.4.3              pyhd3eb1b0_0  \n",
      "networkx                  2.5                        py_0    conda-forge\n",
      "notebook                  6.2.0            py38hecd8cb5_0  \n",
      "numexpr                   2.7.3            py38h16bde0e_0  \n",
      "numpy                     1.19.2           py38h456fd55_0  \n",
      "numpy-base                1.19.2           py38hcfb5961_0  \n",
      "oauthlib                  3.1.0                    pypi_0    pypi\n",
      "olefile                   0.46               pyh9f0ad1d_1    conda-forge\n",
      "openssl                   1.1.1j               h9ed2024_0  \n",
      "orc                       1.6.5                h001ef8f_1  \n",
      "packaging                 20.8               pyhd3eb1b0_0  \n",
      "pandas                    1.0.1            py38h4f17bb1_0    conda-forge\n",
      "pandoc                    2.11                 h0dc7051_0  \n",
      "pandocfilters             1.4.3            py38hecd8cb5_1  \n",
      "parso                     0.8.1              pyhd3eb1b0_0  \n",
      "partd                     1.1.0                      py_0    conda-forge\n",
      "pcre                      8.44                 h4a8c4bd_0    conda-forge\n",
      "pexpect                   4.8.0              pyhd3eb1b0_3  \n",
      "pickleshare               0.7.5           pyhd3eb1b0_1003  \n",
      "pillow                    7.2.0            py38h83dc5e5_0    conda-forge\n",
      "pip                       20.2.2                   py38_0  \n",
      "progressbar2              3.53.1             pyh9f0ad1d_0    conda-forge\n",
      "prometheus_client         0.9.0              pyhd3eb1b0_0  \n",
      "promise                   2.3                      pypi_0    pypi\n",
      "prompt-toolkit            3.0.8                      py_0  \n",
      "psutil                    5.8.0            py38h5406a74_1    conda-forge\n",
      "ptyprocess                0.7.0              pyhd3eb1b0_2  \n",
      "pyarrow                   3.0.0            py38hdf3e9eb_1  \n",
      "pycparser                 2.20                       py_2  \n",
      "pyerfa                    1.7.2            py38h9ed2024_0  \n",
      "pygments                  2.7.4              pyhd3eb1b0_0  \n",
      "pylint                    2.6.0                    pypi_0    pypi\n",
      "pyopengl                  3.1.5                      py_0    conda-forge\n",
      "pyopenssl                 20.0.1             pyhd3eb1b0_1  \n",
      "pyparsing                 2.4.7              pyhd3eb1b0_0  \n",
      "pyqt                      5.9.2            py38h655552a_2  \n",
      "pyrsistent                0.17.3           py38haf1e3a3_0  \n",
      "pysocks                   1.7.1                    py38_1  \n",
      "pytables                  3.6.1            py38h4727e94_0  \n",
      "python                    3.8.5                h26836e1_0  \n",
      "python-dateutil           2.8.1              pyhd3eb1b0_0  \n",
      "python-utils              2.5.5              pyh44b312d_0    conda-forge\n",
      "python_abi                3.8                      1_cp38    conda-forge\n",
      "pythreejs                 2.3.0              pyhd8ed1ab_0    conda-forge\n",
      "pytz                      2020.1                   pypi_0    pypi\n",
      "pywavelets                1.1.1            py38hc7193ba_3    conda-forge\n",
      "pyyaml                    5.4.1            py38h5406a74_0    conda-forge\n",
      "pyzmq                     20.0.0           py38h23ab428_1  \n",
      "qt                        5.9.7                h93ee506_2    conda-forge\n",
      "re2                       2020.11.01           h23ab428_1  \n",
      "readline                  8.0                  h1de35cc_0  \n",
      "requests                  2.24.0                   pypi_0    pypi\n",
      "rx                        1.6.1                    pypi_0    pypi\n",
      "s3fs                      0.2.2                      py_0    conda-forge\n",
      "s3transfer                0.3.4              pyhd8ed1ab_0    conda-forge\n",
      "scikit-image              0.16.2           py38h4f17bb1_0    conda-forge\n",
      "scipy                     1.6.1            py38h2515648_0  \n",
      "send2trash                1.5.0              pyhd3eb1b0_1  \n",
      "setuptools                49.6.0                   py38_0  \n",
      "shapely                   1.7.1            py38h7843d1f_1    conda-forge\n",
      "sip                       4.19.8           py38h0a44026_0  \n",
      "six                       1.15.0           py38hecd8cb5_0  \n",
      "snappy                    1.1.8                h4a8c4bd_3    conda-forge\n",
      "sortedcontainers          2.3.0              pyhd8ed1ab_0    conda-forge\n",
      "sqlite                    3.33.0               hffcf06c_0  \n",
      "sqlparse                  0.3.1                    pypi_0    pypi\n",
      "tabulate                  0.8.9              pyhd8ed1ab_0    conda-forge\n",
      "tblib                     1.6.0                      py_0    conda-forge\n",
      "terminado                 0.9.2            py38hecd8cb5_0  \n",
      "testpath                  0.4.4              pyhd3eb1b0_0  \n",
      "tk                        8.6.10               hb0a8c7a_0  \n",
      "toml                      0.10.1                   pypi_0    pypi\n",
      "toolz                     0.11.1                     py_0    conda-forge\n",
      "tornado                   6.1              py38h9ed2024_0  \n",
      "traitlets                 5.0.5              pyhd3eb1b0_0  \n",
      "traittypes                0.2.1              pyh9f0ad1d_2    conda-forge\n",
      "typing_extensions         3.7.4.3                    py_0    conda-forge\n",
      "uriparser                 0.9.3                h6de7cb9_1    conda-forge\n",
      "urllib3                   1.25.10                  pypi_0    pypi\n",
      "utf8proc                  2.6.1                h9ed2024_0  \n",
      "vaex-arrow                0.5.1              pyh9f0ad1d_0    conda-forge\n",
      "vaex-astro                0.7.0              pyh9f0ad1d_0    conda-forge\n",
      "vaex-core                 2.0.3            py38h5fc983b_0    conda-forge\n",
      "vaex-graphql              0.1.0                    pypi_0    pypi\n",
      "vaex-hdf5                 0.6.0              pyh9f0ad1d_0    conda-forge\n",
      "vaex-jupyter              0.5.2              pyh9f0ad1d_0    conda-forge\n",
      "vaex-server               0.3.1              pyh9f0ad1d_0    conda-forge\n",
      "vaex-ui                   0.3.0                      py_0    conda-forge\n",
      "vaex-viz                  0.4.0              pyh9f0ad1d_0    conda-forge\n",
      "wcwidth                   0.2.5                      py_0  \n",
      "webencodings              0.5.1                    py38_1  \n",
      "werkzeug                  0.12.2                   pypi_0    pypi\n",
      "wheel                     0.35.1                     py_0  \n",
      "widgetsnbextension        3.5.1            py38h50d1736_4    conda-forge\n",
      "wrapt                     1.12.1                   pypi_0    pypi\n",
      "xarray                    0.17.0             pyhd8ed1ab_0    conda-forge\n",
      "xz                        5.2.5                h1de35cc_0  \n",
      "yaml                      0.2.5                haf1e3a3_0    conda-forge\n",
      "zeromq                    4.3.3                hb1e8313_3  \n",
      "zict                      2.0.0                      py_0    conda-forge\n",
      "zipp                      3.4.0              pyhd3eb1b0_0  \n",
      "zlib                      1.2.11               h1de35cc_3  \n",
      "zstd                      1.4.5                h41d2c2f_0  \n"
     ]
    }
   ],
   "source": [
    "!conda list"
   ]
  },
  {
   "cell_type": "markdown",
   "id": "cardiovascular-reflection",
   "metadata": {},
   "source": [
    "### Export files"
   ]
  },
  {
   "cell_type": "code",
   "execution_count": null,
   "id": "important-allen",
   "metadata": {},
   "outputs": [],
   "source": []
  },
  {
   "cell_type": "markdown",
   "id": "impaired-tension",
   "metadata": {},
   "source": [
    "### GraphQL"
   ]
  },
  {
   "cell_type": "code",
   "execution_count": null,
   "id": "nearby-distance",
   "metadata": {},
   "outputs": [],
   "source": []
  }
 ],
 "metadata": {
  "kernelspec": {
   "display_name": "Python 3",
   "language": "python",
   "name": "python3"
  },
  "language_info": {
   "codemirror_mode": {
    "name": "ipython",
    "version": 3
   },
   "file_extension": ".py",
   "mimetype": "text/x-python",
   "name": "python",
   "nbconvert_exporter": "python",
   "pygments_lexer": "ipython3",
   "version": "3.8.5"
  }
 },
 "nbformat": 4,
 "nbformat_minor": 5
}
